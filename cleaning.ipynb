{
  "nbformat": 4,
  "nbformat_minor": 0,
  "metadata": {
    "colab": {
      "provenance": []
    },
    "kernelspec": {
      "name": "python3",
      "display_name": "Python 3"
    },
    "language_info": {
      "name": "python"
    }
  },
  "cells": [
    {
      "cell_type": "code",
      "source": [
        "import os\n",
        "import pickle\n",
        "import warnings\n",
        "import numpy as np\n",
        "import pandas as pd\n",
        "import altair as alt\n",
        "import seaborn as sns"
      ],
      "metadata": {
        "id": "BNM_smckwA2i"
      },
      "execution_count": null,
      "outputs": []
    },
    {
      "cell_type": "code",
      "source": [
        "urls = [\n",
        "    '/content/drive/MyDrive/36104/at3_data/1 to 15 May 2013.csv',\n",
        "    '/content/drive/MyDrive/36104/at3_data/1 May to 15 May 2014.csv',\n",
        "    '/content/drive/MyDrive/36104/at3_data/1 May to 15 May 2015.csv',\n",
        "    '/content/drive/MyDrive/36104/at3_data/1 to 15 Feb 2013.csv',\n",
        "    '/content/drive/MyDrive/36104/at3_data/1 to 15 Feb 2014.csv',\n",
        "    '/content/drive/MyDrive/36104/at3_data/1 to 15 Feb 2015.csv',\n",
        "    '/content/drive/MyDrive/36104/at3_data/15 to 30 Nov 2013.csv',\n",
        "    '/content/drive/MyDrive/36104/at3_data/15 to 30 Nov 2014.csv',\n",
        "    '/content/drive/MyDrive/36104/at3_data/15 to 30 Nov 2015.csv'\n",
        "]"
      ],
      "metadata": {
        "id": "n-Oz0vUBuGvA"
      },
      "execution_count": null,
      "outputs": []
    },
    {
      "cell_type": "code",
      "source": [
        "dfs = []\n",
        "for url in urls:\n",
        "    df_temp = pd.read_csv(url)\n",
        "    dfs.append(df_temp)\n",
        "\n",
        "df = pd.concat(dfs, axis=0, ignore_index=True)"
      ],
      "metadata": {
        "colab": {
          "base_uri": "https://localhost:8080/"
        },
        "id": "Tt2zSv0xwCW2",
        "outputId": "d5fc87bf-5f09-49e0-8e2a-40b3f8556bf5"
      },
      "execution_count": null,
      "outputs": [
        {
          "output_type": "stream",
          "name": "stderr",
          "text": [
            "<ipython-input-3-4f59f44643f0>:3: DtypeWarning: Columns (8) have mixed types. Specify dtype option on import or set low_memory=False.\n",
            "  df_temp = pd.read_csv(url)\n",
            "<ipython-input-3-4f59f44643f0>:3: DtypeWarning: Columns (8) have mixed types. Specify dtype option on import or set low_memory=False.\n",
            "  df_temp = pd.read_csv(url)\n",
            "<ipython-input-3-4f59f44643f0>:3: DtypeWarning: Columns (8) have mixed types. Specify dtype option on import or set low_memory=False.\n",
            "  df_temp = pd.read_csv(url)\n"
          ]
        }
      ]
    },
    {
      "cell_type": "code",
      "source": [
        "post_code_df = pd.read_csv('/content/drive/MyDrive/36104/post_code.csv')\n",
        "unique_post_code_df = post_code_df.groupby('Place').agg(\n",
        "    {'Code': 'min'}\n",
        ").reset_index()\n",
        "unique_post_code_df.rename(columns={'Code': 'post_code'}, inplace=True)\n",
        "unique_post_code_df['Place'] = unique_post_code_df['Place'].str.strip()"
      ],
      "metadata": {
        "id": "8ErhQStFE0TR"
      },
      "execution_count": null,
      "outputs": []
    },
    {
      "cell_type": "code",
      "source": [
        "df.info()"
      ],
      "metadata": {
        "colab": {
          "base_uri": "https://localhost:8080/"
        },
        "id": "kmdRT-6WxwPU",
        "outputId": "5bccced7-3cd9-4633-db5c-a9ac4df30e76"
      },
      "execution_count": null,
      "outputs": [
        {
          "output_type": "stream",
          "name": "stdout",
          "text": [
            "<class 'pandas.core.frame.DataFrame'>\n",
            "RangeIndex: 446729 entries, 0 to 446728\n",
            "Data columns (total 14 columns):\n",
            " #   Column       Non-Null Count   Dtype  \n",
            "---  ------       --------------   -----  \n",
            " 0   Date & Time  446729 non-null  object \n",
            " 1   RFID         446729 non-null  int64  \n",
            " 2   Serial       446222 non-null  float64\n",
            " 3   Bin Type     446729 non-null  object \n",
            " 4   Schedule     446729 non-null  object \n",
            " 5   Weight       293143 non-null  float64\n",
            " 6   Truck        446729 non-null  object \n",
            " 7   Zone         446286 non-null  float64\n",
            " 8   Reference    441421 non-null  object \n",
            " 9   Billing      0 non-null       float64\n",
            " 10  Unit         144469 non-null  object \n",
            " 11  House        446681 non-null  object \n",
            " 12  Street       446729 non-null  object \n",
            " 13  Suburb       446662 non-null  object \n",
            "dtypes: float64(4), int64(1), object(9)\n",
            "memory usage: 47.7+ MB\n"
          ]
        }
      ]
    },
    {
      "cell_type": "code",
      "source": [
        "df_cleaned = df.copy()\n",
        "# drop missing values\n",
        "df_cleaned = df_cleaned.dropna(subset=['Weight'])\n",
        "df_cleaned = df_cleaned[df_cleaned['Weight']<=75].reset_index(drop=True)\n",
        "\n",
        "# recycle waste is the waste in Bin starts with R\n",
        "recycled_mask = df_cleaned['Bin Type'].str.startswith('R')\n",
        "df_cleaned.loc[recycled_mask, 'Recycled Weight'] = df_cleaned['Weight']\n",
        "df_cleaned['Recycled Weight'].fillna(0, inplace=True)   \n",
        "\n",
        "# convert Date & Time column to datetime format\n",
        "df_cleaned['date_time'] = pd.to_datetime(df_cleaned['Date & Time'], format=\"%d/%m/%Y %H:%M\")\n",
        "df_cleaned['date'] = pd.to_datetime(df_cleaned['date_time']).dt.date\n",
        "df_cleaned['week'] = df_cleaned['date_time'].dt.isocalendar().week\n",
        "df_cleaned['year'] = df_cleaned['date_time'].dt.year\n",
        "df_cleaned['dayofweek'] = df_cleaned['date_time'].dt.day_name()\n",
        "df_cleaned = df_cleaned.sort_values(by='date').reset_index(drop=True)"
      ],
      "metadata": {
        "id": "zl1WcirNyOw_"
      },
      "execution_count": null,
      "outputs": []
    },
    {
      "cell_type": "code",
      "source": [
        "string_columns = [\n",
        " 'Bin Type',\n",
        " 'Schedule',\n",
        " 'Truck',\n",
        " 'Reference',\n",
        " 'Unit',\n",
        " 'House',\n",
        " 'Street',\n",
        " 'Suburb'\n",
        "]\n",
        "# strip trailing/ leading white spaces\n",
        "for col in string_columns:\n",
        "    df_cleaned[col] = df_cleaned[col].str.strip()"
      ],
      "metadata": {
        "id": "27klQswmemCf"
      },
      "execution_count": null,
      "outputs": []
    },
    {
      "cell_type": "code",
      "source": [
        "df_cleaned = df_cleaned.merge(\n",
        "    unique_post_code_df[['Place', 'post_code']],\n",
        "    left_on='Suburb',\n",
        "    right_on='Place'\n",
        ")"
      ],
      "metadata": {
        "id": "YCc3absIGapd"
      },
      "execution_count": null,
      "outputs": []
    },
    {
      "cell_type": "code",
      "source": [
        "df_cleaned.head(5)"
      ],
      "metadata": {
        "colab": {
          "base_uri": "https://localhost:8080/",
          "height": 404
        },
        "id": "DMS9OP9kyi7p",
        "outputId": "6cde3215-f88b-4656-a6c5-4833312826bc"
      },
      "execution_count": null,
      "outputs": [
        {
          "output_type": "execute_result",
          "data": {
            "text/plain": [
              "       Date & Time       RFID    Serial Bin Type              Schedule  \\\n",
              "0  1/02/2013 10:14  159731100  106289.0   G-0140          Every Friday   \n",
              "1  1/02/2013 10:14  159745806  105596.0   G-0140          Every Friday   \n",
              "2  1/02/2013 10:14  161117492  247814.0   R-0240  Fortnightly B Friday   \n",
              "3  1/02/2013 10:13  159731071  105595.0   G-0140          Every Friday   \n",
              "4  1/02/2013 10:13  161129034  246744.0   R-0240  Fortnightly B Friday   \n",
              "\n",
              "   Weight   Truck  Zone Reference  Billing  ...            Street   Suburb  \\\n",
              "0     5.6  AT17QA  19.0      1889      NaN  ...    Forrest Street  Chifley   \n",
              "1    13.5  AT17QA  19.0      1887      NaN  ...    Forrest Street  Chifley   \n",
              "2     5.4  AT44WE  19.0      2160      NaN  ...  Macquarie Street  Chifley   \n",
              "3     3.0  AT17QA  19.0      1885      NaN  ...    Forrest Street  Chifley   \n",
              "4    61.2  AT44WE  19.0      2158      NaN  ...  Macquarie Street  Chifley   \n",
              "\n",
              "  Recycled Weight           date_time        date week  year  dayofweek  \\\n",
              "0             0.0 2013-02-01 10:14:00  2013-02-01    5  2013     Friday   \n",
              "1             0.0 2013-02-01 10:14:00  2013-02-01    5  2013     Friday   \n",
              "2             5.4 2013-02-01 10:14:00  2013-02-01    5  2013     Friday   \n",
              "3             0.0 2013-02-01 10:13:00  2013-02-01    5  2013     Friday   \n",
              "4            61.2 2013-02-01 10:13:00  2013-02-01    5  2013     Friday   \n",
              "\n",
              "     Place post_code  \n",
              "0  Chifley      2036  \n",
              "1  Chifley      2036  \n",
              "2  Chifley      2036  \n",
              "3  Chifley      2036  \n",
              "4  Chifley      2036  \n",
              "\n",
              "[5 rows x 22 columns]"
            ],
            "text/html": [
              "\n",
              "  <div id=\"df-3ea2bdcf-8a17-4cf4-b14d-3ff5a8d4f6ce\">\n",
              "    <div class=\"colab-df-container\">\n",
              "      <div>\n",
              "<style scoped>\n",
              "    .dataframe tbody tr th:only-of-type {\n",
              "        vertical-align: middle;\n",
              "    }\n",
              "\n",
              "    .dataframe tbody tr th {\n",
              "        vertical-align: top;\n",
              "    }\n",
              "\n",
              "    .dataframe thead th {\n",
              "        text-align: right;\n",
              "    }\n",
              "</style>\n",
              "<table border=\"1\" class=\"dataframe\">\n",
              "  <thead>\n",
              "    <tr style=\"text-align: right;\">\n",
              "      <th></th>\n",
              "      <th>Date &amp; Time</th>\n",
              "      <th>RFID</th>\n",
              "      <th>Serial</th>\n",
              "      <th>Bin Type</th>\n",
              "      <th>Schedule</th>\n",
              "      <th>Weight</th>\n",
              "      <th>Truck</th>\n",
              "      <th>Zone</th>\n",
              "      <th>Reference</th>\n",
              "      <th>Billing</th>\n",
              "      <th>...</th>\n",
              "      <th>Street</th>\n",
              "      <th>Suburb</th>\n",
              "      <th>Recycled Weight</th>\n",
              "      <th>date_time</th>\n",
              "      <th>date</th>\n",
              "      <th>week</th>\n",
              "      <th>year</th>\n",
              "      <th>dayofweek</th>\n",
              "      <th>Place</th>\n",
              "      <th>post_code</th>\n",
              "    </tr>\n",
              "  </thead>\n",
              "  <tbody>\n",
              "    <tr>\n",
              "      <th>0</th>\n",
              "      <td>1/02/2013 10:14</td>\n",
              "      <td>159731100</td>\n",
              "      <td>106289.0</td>\n",
              "      <td>G-0140</td>\n",
              "      <td>Every Friday</td>\n",
              "      <td>5.6</td>\n",
              "      <td>AT17QA</td>\n",
              "      <td>19.0</td>\n",
              "      <td>1889</td>\n",
              "      <td>NaN</td>\n",
              "      <td>...</td>\n",
              "      <td>Forrest Street</td>\n",
              "      <td>Chifley</td>\n",
              "      <td>0.0</td>\n",
              "      <td>2013-02-01 10:14:00</td>\n",
              "      <td>2013-02-01</td>\n",
              "      <td>5</td>\n",
              "      <td>2013</td>\n",
              "      <td>Friday</td>\n",
              "      <td>Chifley</td>\n",
              "      <td>2036</td>\n",
              "    </tr>\n",
              "    <tr>\n",
              "      <th>1</th>\n",
              "      <td>1/02/2013 10:14</td>\n",
              "      <td>159745806</td>\n",
              "      <td>105596.0</td>\n",
              "      <td>G-0140</td>\n",
              "      <td>Every Friday</td>\n",
              "      <td>13.5</td>\n",
              "      <td>AT17QA</td>\n",
              "      <td>19.0</td>\n",
              "      <td>1887</td>\n",
              "      <td>NaN</td>\n",
              "      <td>...</td>\n",
              "      <td>Forrest Street</td>\n",
              "      <td>Chifley</td>\n",
              "      <td>0.0</td>\n",
              "      <td>2013-02-01 10:14:00</td>\n",
              "      <td>2013-02-01</td>\n",
              "      <td>5</td>\n",
              "      <td>2013</td>\n",
              "      <td>Friday</td>\n",
              "      <td>Chifley</td>\n",
              "      <td>2036</td>\n",
              "    </tr>\n",
              "    <tr>\n",
              "      <th>2</th>\n",
              "      <td>1/02/2013 10:14</td>\n",
              "      <td>161117492</td>\n",
              "      <td>247814.0</td>\n",
              "      <td>R-0240</td>\n",
              "      <td>Fortnightly B Friday</td>\n",
              "      <td>5.4</td>\n",
              "      <td>AT44WE</td>\n",
              "      <td>19.0</td>\n",
              "      <td>2160</td>\n",
              "      <td>NaN</td>\n",
              "      <td>...</td>\n",
              "      <td>Macquarie Street</td>\n",
              "      <td>Chifley</td>\n",
              "      <td>5.4</td>\n",
              "      <td>2013-02-01 10:14:00</td>\n",
              "      <td>2013-02-01</td>\n",
              "      <td>5</td>\n",
              "      <td>2013</td>\n",
              "      <td>Friday</td>\n",
              "      <td>Chifley</td>\n",
              "      <td>2036</td>\n",
              "    </tr>\n",
              "    <tr>\n",
              "      <th>3</th>\n",
              "      <td>1/02/2013 10:13</td>\n",
              "      <td>159731071</td>\n",
              "      <td>105595.0</td>\n",
              "      <td>G-0140</td>\n",
              "      <td>Every Friday</td>\n",
              "      <td>3.0</td>\n",
              "      <td>AT17QA</td>\n",
              "      <td>19.0</td>\n",
              "      <td>1885</td>\n",
              "      <td>NaN</td>\n",
              "      <td>...</td>\n",
              "      <td>Forrest Street</td>\n",
              "      <td>Chifley</td>\n",
              "      <td>0.0</td>\n",
              "      <td>2013-02-01 10:13:00</td>\n",
              "      <td>2013-02-01</td>\n",
              "      <td>5</td>\n",
              "      <td>2013</td>\n",
              "      <td>Friday</td>\n",
              "      <td>Chifley</td>\n",
              "      <td>2036</td>\n",
              "    </tr>\n",
              "    <tr>\n",
              "      <th>4</th>\n",
              "      <td>1/02/2013 10:13</td>\n",
              "      <td>161129034</td>\n",
              "      <td>246744.0</td>\n",
              "      <td>R-0240</td>\n",
              "      <td>Fortnightly B Friday</td>\n",
              "      <td>61.2</td>\n",
              "      <td>AT44WE</td>\n",
              "      <td>19.0</td>\n",
              "      <td>2158</td>\n",
              "      <td>NaN</td>\n",
              "      <td>...</td>\n",
              "      <td>Macquarie Street</td>\n",
              "      <td>Chifley</td>\n",
              "      <td>61.2</td>\n",
              "      <td>2013-02-01 10:13:00</td>\n",
              "      <td>2013-02-01</td>\n",
              "      <td>5</td>\n",
              "      <td>2013</td>\n",
              "      <td>Friday</td>\n",
              "      <td>Chifley</td>\n",
              "      <td>2036</td>\n",
              "    </tr>\n",
              "  </tbody>\n",
              "</table>\n",
              "<p>5 rows × 22 columns</p>\n",
              "</div>\n",
              "      <button class=\"colab-df-convert\" onclick=\"convertToInteractive('df-3ea2bdcf-8a17-4cf4-b14d-3ff5a8d4f6ce')\"\n",
              "              title=\"Convert this dataframe to an interactive table.\"\n",
              "              style=\"display:none;\">\n",
              "        \n",
              "  <svg xmlns=\"http://www.w3.org/2000/svg\" height=\"24px\"viewBox=\"0 0 24 24\"\n",
              "       width=\"24px\">\n",
              "    <path d=\"M0 0h24v24H0V0z\" fill=\"none\"/>\n",
              "    <path d=\"M18.56 5.44l.94 2.06.94-2.06 2.06-.94-2.06-.94-.94-2.06-.94 2.06-2.06.94zm-11 1L8.5 8.5l.94-2.06 2.06-.94-2.06-.94L8.5 2.5l-.94 2.06-2.06.94zm10 10l.94 2.06.94-2.06 2.06-.94-2.06-.94-.94-2.06-.94 2.06-2.06.94z\"/><path d=\"M17.41 7.96l-1.37-1.37c-.4-.4-.92-.59-1.43-.59-.52 0-1.04.2-1.43.59L10.3 9.45l-7.72 7.72c-.78.78-.78 2.05 0 2.83L4 21.41c.39.39.9.59 1.41.59.51 0 1.02-.2 1.41-.59l7.78-7.78 2.81-2.81c.8-.78.8-2.07 0-2.86zM5.41 20L4 18.59l7.72-7.72 1.47 1.35L5.41 20z\"/>\n",
              "  </svg>\n",
              "      </button>\n",
              "      \n",
              "  <style>\n",
              "    .colab-df-container {\n",
              "      display:flex;\n",
              "      flex-wrap:wrap;\n",
              "      gap: 12px;\n",
              "    }\n",
              "\n",
              "    .colab-df-convert {\n",
              "      background-color: #E8F0FE;\n",
              "      border: none;\n",
              "      border-radius: 50%;\n",
              "      cursor: pointer;\n",
              "      display: none;\n",
              "      fill: #1967D2;\n",
              "      height: 32px;\n",
              "      padding: 0 0 0 0;\n",
              "      width: 32px;\n",
              "    }\n",
              "\n",
              "    .colab-df-convert:hover {\n",
              "      background-color: #E2EBFA;\n",
              "      box-shadow: 0px 1px 2px rgba(60, 64, 67, 0.3), 0px 1px 3px 1px rgba(60, 64, 67, 0.15);\n",
              "      fill: #174EA6;\n",
              "    }\n",
              "\n",
              "    [theme=dark] .colab-df-convert {\n",
              "      background-color: #3B4455;\n",
              "      fill: #D2E3FC;\n",
              "    }\n",
              "\n",
              "    [theme=dark] .colab-df-convert:hover {\n",
              "      background-color: #434B5C;\n",
              "      box-shadow: 0px 1px 3px 1px rgba(0, 0, 0, 0.15);\n",
              "      filter: drop-shadow(0px 1px 2px rgba(0, 0, 0, 0.3));\n",
              "      fill: #FFFFFF;\n",
              "    }\n",
              "  </style>\n",
              "\n",
              "      <script>\n",
              "        const buttonEl =\n",
              "          document.querySelector('#df-3ea2bdcf-8a17-4cf4-b14d-3ff5a8d4f6ce button.colab-df-convert');\n",
              "        buttonEl.style.display =\n",
              "          google.colab.kernel.accessAllowed ? 'block' : 'none';\n",
              "\n",
              "        async function convertToInteractive(key) {\n",
              "          const element = document.querySelector('#df-3ea2bdcf-8a17-4cf4-b14d-3ff5a8d4f6ce');\n",
              "          const dataTable =\n",
              "            await google.colab.kernel.invokeFunction('convertToInteractive',\n",
              "                                                     [key], {});\n",
              "          if (!dataTable) return;\n",
              "\n",
              "          const docLinkHtml = 'Like what you see? Visit the ' +\n",
              "            '<a target=\"_blank\" href=https://colab.research.google.com/notebooks/data_table.ipynb>data table notebook</a>'\n",
              "            + ' to learn more about interactive tables.';\n",
              "          element.innerHTML = '';\n",
              "          dataTable['output_type'] = 'display_data';\n",
              "          await google.colab.output.renderOutput(dataTable, element);\n",
              "          const docLink = document.createElement('div');\n",
              "          docLink.innerHTML = docLinkHtml;\n",
              "          element.appendChild(docLink);\n",
              "        }\n",
              "      </script>\n",
              "    </div>\n",
              "  </div>\n",
              "  "
            ]
          },
          "metadata": {},
          "execution_count": 22
        }
      ]
    },
    {
      "cell_type": "code",
      "source": [
        "df_cleaned.info()"
      ],
      "metadata": {
        "colab": {
          "base_uri": "https://localhost:8080/"
        },
        "id": "o3LMk_5Fg24R",
        "outputId": "298f1c4b-0164-4fcc-9fc3-bd5d3d94035c"
      },
      "execution_count": null,
      "outputs": [
        {
          "output_type": "stream",
          "name": "stdout",
          "text": [
            "<class 'pandas.core.frame.DataFrame'>\n",
            "Int64Index: 205212 entries, 0 to 205211\n",
            "Data columns (total 22 columns):\n",
            " #   Column           Non-Null Count   Dtype         \n",
            "---  ------           --------------   -----         \n",
            " 0   Date & Time      205212 non-null  object        \n",
            " 1   RFID             205212 non-null  int64         \n",
            " 2   Serial           205047 non-null  float64       \n",
            " 3   Bin Type         205212 non-null  object        \n",
            " 4   Schedule         205212 non-null  object        \n",
            " 5   Weight           205212 non-null  float64       \n",
            " 6   Truck            205212 non-null  object        \n",
            " 7   Zone             204987 non-null  float64       \n",
            " 8   Reference        172221 non-null  object        \n",
            " 9   Billing          0 non-null       float64       \n",
            " 10  Unit             70976 non-null   object        \n",
            " 11  House            205175 non-null  object        \n",
            " 12  Street           205212 non-null  object        \n",
            " 13  Suburb           205212 non-null  object        \n",
            " 14  Recycled Weight  205212 non-null  float64       \n",
            " 15  date_time        205212 non-null  datetime64[ns]\n",
            " 16  date             205212 non-null  object        \n",
            " 17  week             205212 non-null  UInt32        \n",
            " 18  year             205212 non-null  int64         \n",
            " 19  dayofweek        205212 non-null  object        \n",
            " 20  Place            205212 non-null  object        \n",
            " 21  post_code        205212 non-null  int64         \n",
            "dtypes: UInt32(1), datetime64[ns](1), float64(5), int64(3), object(12)\n",
            "memory usage: 35.4+ MB\n"
          ]
        }
      ]
    },
    {
      "cell_type": "code",
      "source": [
        "df_cleaned.columns"
      ],
      "metadata": {
        "colab": {
          "base_uri": "https://localhost:8080/"
        },
        "id": "1XAZtPt9h8R_",
        "outputId": "9aaf98a4-b232-46e7-9ded-4e8371a15f2c"
      },
      "execution_count": null,
      "outputs": [
        {
          "output_type": "execute_result",
          "data": {
            "text/plain": [
              "Index(['Date & Time', 'RFID', 'Serial', 'Bin Type', 'Schedule', 'Weight',\n",
              "       'Truck', 'Zone', 'Reference', 'Billing', 'Unit', 'House', 'Street',\n",
              "       'Suburb', 'Recycled Weight', 'date_time', 'date', 'week', 'year',\n",
              "       'dayofweek', 'Place', 'post_code'],\n",
              "      dtype='object')"
            ]
          },
          "metadata": {},
          "execution_count": 26
        }
      ]
    },
    {
      "cell_type": "code",
      "source": [
        "selected_columns = [\n",
        "    'date_time', 'date', 'week', 'year',\n",
        "    'RFID', 'Serial', 'Bin Type', 'Schedule', 'Weight',\n",
        "    'Truck', 'Zone', 'Reference', 'Billing', 'House', 'Street',\n",
        "    'Suburb', 'post_code', 'Recycled Weight', \n",
        "    'dayofweek', \n",
        "]\n",
        "df_cleaned = df_cleaned[selected_columns]"
      ],
      "metadata": {
        "id": "hy_NkbYMh-yH"
      },
      "execution_count": null,
      "outputs": []
    },
    {
      "cell_type": "code",
      "source": [
        "df_cleaned['address'] = df_cleaned['House'] + '-' + df_cleaned['Street'] + '-' + df_cleaned['Suburb']\n",
        "df_cleaned['address'] = df_cleaned['address'].str.lower()\n",
        "\n",
        "property_detail_df = pd.read_csv('/content/drive/MyDrive/36104/at3_data/property_detail.csv')\n",
        "property_detail_df['End House Alpha'] = property_detail_df['End House Alpha'].str.strip().fillna('')\n",
        "property_detail_df['address'] = property_detail_df['Start House Number'].astype(str) + property_detail_df['End House Alpha'] + '-' + property_detail_df['Street'] + '-' + property_detail_df['Suburb']\n",
        "property_detail_df['address'] = property_detail_df['address'].str.lower()\n",
        "property_detail_unique_df = property_detail_df[['Property Type', 'address', 'Total Units']].groupby('address').agg(\n",
        "    {'Property Type': 'max',\n",
        "     'Total Units': 'max'}\n",
        ").reset_index()\n",
        "\n",
        "# property_detail_unique_df.to_csv('/content/drive/MyDrive/36104/Assignment 3 - Shared/property_detail_unique.csv')\n",
        "\n",
        "df_cleaned_house_details = df_cleaned.merge(property_detail_unique_df,\n",
        "                                            on='address', how='left')\n",
        "\n",
        "# calculate number of house number\n",
        "df_cleaned_house_details['house_len'] = df_cleaned_house_details['House'].str.strip('-').str.count('-') + 1\n",
        "\n",
        "df_cleaned_house_details.loc[df_cleaned_house_details['Total Units'].isna(), 'Total Units'] = df_cleaned_house_details['house_len']\n",
        "# some house has missing house number (37 records) => force total unit to be 1\n",
        "df_cleaned_house_details['Total Units'].fillna(1, inplace=True)\n",
        "# total unit can not be 0 => force to be 1\n",
        "df_cleaned_house_details.loc[df_cleaned_house_details['Total Units']==0, 'Total Units'] = 1\n"
      ],
      "metadata": {
        "id": "BysYtD_bldSO"
      },
      "execution_count": null,
      "outputs": []
    },
    {
      "cell_type": "code",
      "source": [
        "df_cleaned_house_details.to_csv('/content/drive/MyDrive/36104/Assignment 3 - Shared/assignment_3_cleaned_data_with_property_details.csv')"
      ],
      "metadata": {
        "id": "ou1LRqGzlgEo"
      },
      "execution_count": null,
      "outputs": []
    },
    {
      "cell_type": "code",
      "source": [
        "df_cleaned.to_csv('/content/drive/MyDrive/36104/Assignment 3 - Shared/assignment_3_cleaned_data.csv')"
      ],
      "metadata": {
        "id": "d6U6_UrU7Xe8"
      },
      "execution_count": null,
      "outputs": []
    }
  ]
}