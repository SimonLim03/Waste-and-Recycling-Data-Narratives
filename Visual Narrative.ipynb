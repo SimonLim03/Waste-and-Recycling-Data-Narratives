{
 "cells": [
  {
   "cell_type": "code",
   "execution_count": 1,
   "metadata": {},
   "outputs": [
    {
     "ename": "",
     "evalue": "",
     "output_type": "error",
     "traceback": [
      "\u001b[1;31mCanceled future for execute_request message before replies were done"
     ]
    },
    {
     "ename": "",
     "evalue": "",
     "output_type": "error",
     "traceback": [
      "\u001b[1;31mThe Kernel crashed while executing code in the the current cell or a previous cell. Please review the code in the cell(s) to identify a possible cause of the failure. Click <a href='https://aka.ms/vscodeJupyterKernelCrash'>here</a> for more info. View Jupyter <a href='command:jupyter.viewOutput'>log</a> for further details."
     ]
    }
   ],
   "source": [
    "import numpy as np\n",
    "import pandas as pd\n",
    "import matplotlib.pyplot as plt\n",
    "import plotly.express as px\n",
    "import seaborn as sns\n",
    "import dataframe_image as dfi\n",
    "\n",
    "df = pd.read_csv(\"assignment_3_cleaned_data_with_property_details.csv\")\n",
    "df"
   ]
  },
  {
   "cell_type": "code",
   "execution_count": null,
   "metadata": {},
   "outputs": [
    {
     "data": {
      "text/html": [
       "<div>\n",
       "<style scoped>\n",
       "    .dataframe tbody tr th:only-of-type {\n",
       "        vertical-align: middle;\n",
       "    }\n",
       "\n",
       "    .dataframe tbody tr th {\n",
       "        vertical-align: top;\n",
       "    }\n",
       "\n",
       "    .dataframe thead th {\n",
       "        text-align: right;\n",
       "    }\n",
       "</style>\n",
       "<table border=\"1\" class=\"dataframe\">\n",
       "  <thead>\n",
       "    <tr style=\"text-align: right;\">\n",
       "      <th></th>\n",
       "      <th>State/ Territory1</th>\n",
       "      <th>Postcode</th>\n",
       "      <th>Number of individuals\\nno.</th>\n",
       "      <th>Taxable income or loss3\\nno.</th>\n",
       "      <th>Taxable income or loss3\\n$</th>\n",
       "      <th>Gross tax\\nno.</th>\n",
       "      <th>Gross tax\\n$</th>\n",
       "      <th>Medicare levy\\nno.</th>\n",
       "      <th>Medicare levy\\n$</th>\n",
       "      <th>Medicare levy surcharge\\nno.</th>\n",
       "      <th>...</th>\n",
       "      <th>Estimated business net tax\\n$</th>\n",
       "      <th>Australian superannuation income stream tax offset\\nno.</th>\n",
       "      <th>Australian superannuation income stream tax offset\\n$</th>\n",
       "      <th>Total net medical expenses tax offset\\nno.</th>\n",
       "      <th>Total net medical expenses tax offset\\n$</th>\n",
       "      <th>Low income tax offset\\nno.</th>\n",
       "      <th>Low income tax offset\\n$</th>\n",
       "      <th>People with private health insurance\\nno.</th>\n",
       "      <th>Tax withheld from salary or wages\\nno.</th>\n",
       "      <th>Tax withheld from salary or wages\\n$</th>\n",
       "    </tr>\n",
       "  </thead>\n",
       "  <tbody>\n",
       "    <tr>\n",
       "      <th>0</th>\n",
       "      <td>ACT</td>\n",
       "      <td>2600</td>\n",
       "      <td>5,592</td>\n",
       "      <td>5,541</td>\n",
       "      <td>565,588,274</td>\n",
       "      <td>4,885</td>\n",
       "      <td>163,954,283</td>\n",
       "      <td>4,341</td>\n",
       "      <td>10,491,506</td>\n",
       "      <td>113</td>\n",
       "      <td>...</td>\n",
       "      <td>12,061,834</td>\n",
       "      <td>909</td>\n",
       "      <td>4,105,628</td>\n",
       "      <td>188</td>\n",
       "      <td>228,538</td>\n",
       "      <td>1,908</td>\n",
       "      <td>548,535</td>\n",
       "      <td>4,532</td>\n",
       "      <td>3,665</td>\n",
       "      <td>101,405,483</td>\n",
       "    </tr>\n",
       "    <tr>\n",
       "      <th>1</th>\n",
       "      <td>ACT</td>\n",
       "      <td>2601</td>\n",
       "      <td>2,792</td>\n",
       "      <td>2,762</td>\n",
       "      <td>181,544,596</td>\n",
       "      <td>2,034</td>\n",
       "      <td>45,335,816</td>\n",
       "      <td>1,703</td>\n",
       "      <td>3,176,065</td>\n",
       "      <td>73</td>\n",
       "      <td>...</td>\n",
       "      <td>1,099,452</td>\n",
       "      <td>167</td>\n",
       "      <td>659,393</td>\n",
       "      <td>23</td>\n",
       "      <td>25,202</td>\n",
       "      <td>850</td>\n",
       "      <td>254,413</td>\n",
       "      <td>1,587</td>\n",
       "      <td>2,229</td>\n",
       "      <td>43,561,012</td>\n",
       "    </tr>\n",
       "    <tr>\n",
       "      <th>2</th>\n",
       "      <td>ACT</td>\n",
       "      <td>2602</td>\n",
       "      <td>19,096</td>\n",
       "      <td>19,029</td>\n",
       "      <td>1,303,424,567</td>\n",
       "      <td>16,234</td>\n",
       "      <td>302,209,555</td>\n",
       "      <td>14,377</td>\n",
       "      <td>23,514,522</td>\n",
       "      <td>427</td>\n",
       "      <td>...</td>\n",
       "      <td>6,957,148</td>\n",
       "      <td>1,850</td>\n",
       "      <td>6,549,440</td>\n",
       "      <td>403</td>\n",
       "      <td>423,186</td>\n",
       "      <td>7,683</td>\n",
       "      <td>2,312,033</td>\n",
       "      <td>13,055</td>\n",
       "      <td>14,967</td>\n",
       "      <td>288,632,965</td>\n",
       "    </tr>\n",
       "    <tr>\n",
       "      <th>3</th>\n",
       "      <td>ACT</td>\n",
       "      <td>2603</td>\n",
       "      <td>6,305</td>\n",
       "      <td>6,270</td>\n",
       "      <td>706,236,866</td>\n",
       "      <td>5,556</td>\n",
       "      <td>213,104,681</td>\n",
       "      <td>4,998</td>\n",
       "      <td>13,243,433</td>\n",
       "      <td>124</td>\n",
       "      <td>...</td>\n",
       "      <td>18,641,488</td>\n",
       "      <td>677</td>\n",
       "      <td>3,122,478</td>\n",
       "      <td>163</td>\n",
       "      <td>256,295</td>\n",
       "      <td>2,033</td>\n",
       "      <td>608,924</td>\n",
       "      <td>5,016</td>\n",
       "      <td>4,468</td>\n",
       "      <td>122,477,060</td>\n",
       "    </tr>\n",
       "    <tr>\n",
       "      <th>4</th>\n",
       "      <td>ACT</td>\n",
       "      <td>2604</td>\n",
       "      <td>7,464</td>\n",
       "      <td>7,418</td>\n",
       "      <td>623,073,392</td>\n",
       "      <td>6,612</td>\n",
       "      <td>160,501,341</td>\n",
       "      <td>5,843</td>\n",
       "      <td>11,256,661</td>\n",
       "      <td>188</td>\n",
       "      <td>...</td>\n",
       "      <td>2,905,655</td>\n",
       "      <td>541</td>\n",
       "      <td>2,116,104</td>\n",
       "      <td>164</td>\n",
       "      <td>246,280</td>\n",
       "      <td>2,531</td>\n",
       "      <td>721,359</td>\n",
       "      <td>5,416</td>\n",
       "      <td>6,023</td>\n",
       "      <td>155,364,315</td>\n",
       "    </tr>\n",
       "    <tr>\n",
       "      <th>...</th>\n",
       "      <td>...</td>\n",
       "      <td>...</td>\n",
       "      <td>...</td>\n",
       "      <td>...</td>\n",
       "      <td>...</td>\n",
       "      <td>...</td>\n",
       "      <td>...</td>\n",
       "      <td>...</td>\n",
       "      <td>...</td>\n",
       "      <td>...</td>\n",
       "      <td>...</td>\n",
       "      <td>...</td>\n",
       "      <td>...</td>\n",
       "      <td>...</td>\n",
       "      <td>...</td>\n",
       "      <td>...</td>\n",
       "      <td>...</td>\n",
       "      <td>...</td>\n",
       "      <td>...</td>\n",
       "      <td>...</td>\n",
       "      <td>...</td>\n",
       "    </tr>\n",
       "    <tr>\n",
       "      <th>2568</th>\n",
       "      <td>WA</td>\n",
       "      <td>6770</td>\n",
       "      <td>769</td>\n",
       "      <td>765</td>\n",
       "      <td>38,106,101</td>\n",
       "      <td>648</td>\n",
       "      <td>6,950,661</td>\n",
       "      <td>530</td>\n",
       "      <td>643,662</td>\n",
       "      <td>24</td>\n",
       "      <td>...</td>\n",
       "      <td>175,809</td>\n",
       "      <td>2</td>\n",
       "      <td>918</td>\n",
       "      <td>0</td>\n",
       "      <td>0</td>\n",
       "      <td>425</td>\n",
       "      <td>131,138</td>\n",
       "      <td>171</td>\n",
       "      <td>721</td>\n",
       "      <td>8,040,666</td>\n",
       "    </tr>\n",
       "    <tr>\n",
       "      <th>2569</th>\n",
       "      <td>WA</td>\n",
       "      <td>6798</td>\n",
       "      <td>925</td>\n",
       "      <td>920</td>\n",
       "      <td>68,406,874</td>\n",
       "      <td>839</td>\n",
       "      <td>15,764,322</td>\n",
       "      <td>771</td>\n",
       "      <td>1,286,335</td>\n",
       "      <td>97</td>\n",
       "      <td>...</td>\n",
       "      <td>509,233</td>\n",
       "      <td>7</td>\n",
       "      <td>11,199</td>\n",
       "      <td>4</td>\n",
       "      <td>1,618</td>\n",
       "      <td>311</td>\n",
       "      <td>87,685</td>\n",
       "      <td>371</td>\n",
       "      <td>806</td>\n",
       "      <td>16,329,648</td>\n",
       "    </tr>\n",
       "    <tr>\n",
       "      <th>2570</th>\n",
       "      <td>WA</td>\n",
       "      <td>6799</td>\n",
       "      <td>246</td>\n",
       "      <td>245</td>\n",
       "      <td>12,306,250</td>\n",
       "      <td>199</td>\n",
       "      <td>2,454,097</td>\n",
       "      <td>177</td>\n",
       "      <td>226,815</td>\n",
       "      <td>8</td>\n",
       "      <td>...</td>\n",
       "      <td>110,481</td>\n",
       "      <td>1</td>\n",
       "      <td>93</td>\n",
       "      <td>1</td>\n",
       "      <td>315</td>\n",
       "      <td>136</td>\n",
       "      <td>42,387</td>\n",
       "      <td>82</td>\n",
       "      <td>215</td>\n",
       "      <td>2,690,718</td>\n",
       "    </tr>\n",
       "    <tr>\n",
       "      <th>2571</th>\n",
       "      <td>WA</td>\n",
       "      <td>WA other</td>\n",
       "      <td>16,233</td>\n",
       "      <td>15,621</td>\n",
       "      <td>1,219,075,436</td>\n",
       "      <td>12,740</td>\n",
       "      <td>353,863,631</td>\n",
       "      <td>8,879</td>\n",
       "      <td>17,598,011</td>\n",
       "      <td>448</td>\n",
       "      <td>...</td>\n",
       "      <td>9,716,471</td>\n",
       "      <td>185</td>\n",
       "      <td>566,212</td>\n",
       "      <td>121</td>\n",
       "      <td>146,032</td>\n",
       "      <td>4,790</td>\n",
       "      <td>1,486,869</td>\n",
       "      <td>8,951</td>\n",
       "      <td>9,514</td>\n",
       "      <td>264,796,586</td>\n",
       "    </tr>\n",
       "    <tr>\n",
       "      <th>2572</th>\n",
       "      <td>Overseas or unknown</td>\n",
       "      <td>Overseas or unknown</td>\n",
       "      <td>105,002</td>\n",
       "      <td>101,123</td>\n",
       "      <td>3,154,535,491</td>\n",
       "      <td>53,028</td>\n",
       "      <td>676,875,276</td>\n",
       "      <td>32,972</td>\n",
       "      <td>44,139,936</td>\n",
       "      <td>1,187</td>\n",
       "      <td>...</td>\n",
       "      <td>13,628,844</td>\n",
       "      <td>795</td>\n",
       "      <td>2,299,495</td>\n",
       "      <td>498</td>\n",
       "      <td>542,433</td>\n",
       "      <td>29,461</td>\n",
       "      <td>9,940,367</td>\n",
       "      <td>24,950</td>\n",
       "      <td>62,030</td>\n",
       "      <td>715,717,426</td>\n",
       "    </tr>\n",
       "  </tbody>\n",
       "</table>\n",
       "<p>2573 rows × 140 columns</p>\n",
       "</div>"
      ],
      "text/plain": [
       "        State/ Territory1             Postcode Number of individuals\\nno.  \\\n",
       "0                     ACT                 2600                     5,592    \n",
       "1                     ACT                 2601                     2,792    \n",
       "2                     ACT                 2602                    19,096    \n",
       "3                     ACT                 2603                     6,305    \n",
       "4                     ACT                 2604                     7,464    \n",
       "...                   ...                  ...                        ...   \n",
       "2568                   WA                 6770                       769    \n",
       "2569                   WA                 6798                       925    \n",
       "2570                   WA                 6799                       246    \n",
       "2571                   WA             WA other                    16,233    \n",
       "2572  Overseas or unknown  Overseas or unknown                    105,002   \n",
       "\n",
       "     Taxable income or loss3\\nno. Taxable income or loss3\\n$ Gross tax\\nno.  \\\n",
       "0                          5,541                565,588,274          4,885    \n",
       "1                          2,762                181,544,596          2,034    \n",
       "2                         19,029              1,303,424,567         16,234    \n",
       "3                          6,270                706,236,866          5,556    \n",
       "4                          7,418                623,073,392          6,612    \n",
       "...                           ...                        ...            ...   \n",
       "2568                         765                 38,106,101            648    \n",
       "2569                         920                 68,406,874            839    \n",
       "2570                         245                 12,306,250            199    \n",
       "2571                      15,621              1,219,075,436         12,740    \n",
       "2572                      101,123              3,154,535,491         53,028   \n",
       "\n",
       "      Gross tax\\n$ Medicare levy\\nno. Medicare levy\\n$  \\\n",
       "0     163,954,283              4,341       10,491,506    \n",
       "1      45,335,816              1,703        3,176,065    \n",
       "2     302,209,555             14,377       23,514,522    \n",
       "3     213,104,681              4,998       13,243,433    \n",
       "4     160,501,341              5,843       11,256,661    \n",
       "...            ...                ...              ...   \n",
       "2568    6,950,661                530          643,662    \n",
       "2569   15,764,322                771        1,286,335    \n",
       "2570    2,454,097                177          226,815    \n",
       "2571  353,863,631              8,879       17,598,011    \n",
       "2572   676,875,276             32,972       44,139,936   \n",
       "\n",
       "     Medicare levy surcharge\\nno.  ... Estimated business net tax\\n$  \\\n",
       "0                            113   ...                   12,061,834    \n",
       "1                             73   ...                    1,099,452    \n",
       "2                            427   ...                    6,957,148    \n",
       "3                            124   ...                   18,641,488    \n",
       "4                            188   ...                    2,905,655    \n",
       "...                           ...  ...                           ...   \n",
       "2568                          24   ...                      175,809    \n",
       "2569                          97   ...                      509,233    \n",
       "2570                           8   ...                      110,481    \n",
       "2571                         448   ...                    9,716,471    \n",
       "2572                        1,187  ...                    13,628,844   \n",
       "\n",
       "     Australian superannuation income stream tax offset\\nno.  \\\n",
       "0                                                  909         \n",
       "1                                                  167         \n",
       "2                                                1,850         \n",
       "3                                                  677         \n",
       "4                                                  541         \n",
       "...                                                 ...        \n",
       "2568                                                 2         \n",
       "2569                                                 7         \n",
       "2570                                                 1         \n",
       "2571                                               185         \n",
       "2572                                                795        \n",
       "\n",
       "     Australian superannuation income stream tax offset\\n$  \\\n",
       "0                                            4,105,628       \n",
       "1                                              659,393       \n",
       "2                                            6,549,440       \n",
       "3                                            3,122,478       \n",
       "4                                            2,116,104       \n",
       "...                                                 ...      \n",
       "2568                                               918       \n",
       "2569                                            11,199       \n",
       "2570                                                93       \n",
       "2571                                           566,212       \n",
       "2572                                          2,299,495      \n",
       "\n",
       "     Total net medical expenses tax offset\\nno.  \\\n",
       "0                                           188   \n",
       "1                                            23   \n",
       "2                                           403   \n",
       "3                                           163   \n",
       "4                                           164   \n",
       "...                                         ...   \n",
       "2568                                          0   \n",
       "2569                                          4   \n",
       "2570                                          1   \n",
       "2571                                        121   \n",
       "2572                                        498   \n",
       "\n",
       "     Total net medical expenses tax offset\\n$ Low income tax offset\\nno.  \\\n",
       "0                                    228,538                      1,908    \n",
       "1                                     25,202                        850    \n",
       "2                                    423,186                      7,683    \n",
       "3                                    256,295                      2,033    \n",
       "4                                    246,280                      2,531    \n",
       "...                                       ...                        ...   \n",
       "2568                                       0                        425    \n",
       "2569                                   1,618                        311    \n",
       "2570                                     315                        136    \n",
       "2571                                 146,032                      4,790    \n",
       "2572                                  542,433                     29,461   \n",
       "\n",
       "     Low income tax offset\\n$  People with private health insurance\\nno.  \\\n",
       "0                    548,535                                      4,532    \n",
       "1                    254,413                                      1,587    \n",
       "2                  2,312,033                                     13,055    \n",
       "3                    608,924                                      5,016    \n",
       "4                    721,359                                      5,416    \n",
       "...                       ...                                        ...   \n",
       "2568                 131,138                                        171    \n",
       "2569                  87,685                                        371    \n",
       "2570                  42,387                                         82    \n",
       "2571               1,486,869                                      8,951    \n",
       "2572                9,940,367                                     24,950   \n",
       "\n",
       "     Tax withheld from salary or wages\\nno.  \\\n",
       "0                                    3,665    \n",
       "1                                    2,229    \n",
       "2                                   14,967    \n",
       "3                                    4,468    \n",
       "4                                    6,023    \n",
       "...                                     ...   \n",
       "2568                                   721    \n",
       "2569                                   806    \n",
       "2570                                   215    \n",
       "2571                                 9,514    \n",
       "2572                                 62,030   \n",
       "\n",
       "     Tax withheld from salary or wages\\n$  \n",
       "0                            101,405,483   \n",
       "1                             43,561,012   \n",
       "2                            288,632,965   \n",
       "3                            122,477,060   \n",
       "4                            155,364,315   \n",
       "...                                   ...  \n",
       "2568                           8,040,666   \n",
       "2569                          16,329,648   \n",
       "2570                           2,690,718   \n",
       "2571                         264,796,586   \n",
       "2572                          715,717,426  \n",
       "\n",
       "[2573 rows x 140 columns]"
      ]
     },
     "execution_count": 3,
     "metadata": {},
     "output_type": "execute_result"
    }
   ],
   "source": [
    "income_df = pd.read_csv('income.csv')\n",
    "income_df"
   ]
  },
  {
   "cell_type": "code",
   "execution_count": 5,
   "metadata": {},
   "outputs": [],
   "source": [
    "income_cols = ['Postcode', 'Number of individuals\\nno.', 'Taxable income or loss3\\n$']\n",
    "income_filtered_df = income_df[income_cols].reset_index()\n",
    "for col in ['Number of individuals\\nno.', 'Taxable income or loss3\\n$']:\n",
    "    income_filtered_df[col] = income_filtered_df[col].str.replace(',', '')\n",
    "    income_filtered_df[col] = income_filtered_df[col].astype(float)"
   ]
  },
  {
   "cell_type": "code",
   "execution_count": 6,
   "metadata": {},
   "outputs": [
    {
     "name": "stderr",
     "output_type": "stream",
     "text": [
      "c:\\Users\\dlatl\\AppData\\Local\\Programs\\Python\\Python311\\Lib\\site-packages\\pandas\\core\\dtypes\\astype.py:189: RuntimeWarning: invalid value encountered in cast\n",
      "  return values.astype(dtype, copy=copy)\n"
     ]
    }
   ],
   "source": [
    "income_agg_df = income_filtered_df.groupby(['Postcode']).agg(\n",
    "    {'Number of individuals\\nno.':'sum',\n",
    "     'Taxable income or loss3\\n$': 'sum'}\n",
    ").reset_index()\n",
    "income_agg_df['mean_income'] = income_agg_df['Taxable income or loss3\\n$'].astype(int)/income_agg_df['Number of individuals\\nno.'].astype(int)"
   ]
  },
  {
   "cell_type": "code",
   "execution_count": 7,
   "metadata": {},
   "outputs": [
    {
     "data": {
      "text/html": [
       "<div>\n",
       "<style scoped>\n",
       "    .dataframe tbody tr th:only-of-type {\n",
       "        vertical-align: middle;\n",
       "    }\n",
       "\n",
       "    .dataframe tbody tr th {\n",
       "        vertical-align: top;\n",
       "    }\n",
       "\n",
       "    .dataframe thead th {\n",
       "        text-align: right;\n",
       "    }\n",
       "</style>\n",
       "<table border=\"1\" class=\"dataframe\">\n",
       "  <thead>\n",
       "    <tr style=\"text-align: right;\">\n",
       "      <th></th>\n",
       "      <th>Postcode</th>\n",
       "      <th>Number of individuals\\nno.</th>\n",
       "      <th>Taxable income or loss3\\n$</th>\n",
       "      <th>mean_income</th>\n",
       "    </tr>\n",
       "  </thead>\n",
       "  <tbody>\n",
       "    <tr>\n",
       "      <th>0</th>\n",
       "      <td>2000</td>\n",
       "      <td>36185.0</td>\n",
       "      <td>1.726846e+09</td>\n",
       "      <td>47722.712892</td>\n",
       "    </tr>\n",
       "    <tr>\n",
       "      <th>1</th>\n",
       "      <td>2006</td>\n",
       "      <td>83.0</td>\n",
       "      <td>6.715139e+06</td>\n",
       "      <td>80905.289157</td>\n",
       "    </tr>\n",
       "    <tr>\n",
       "      <th>2</th>\n",
       "      <td>2007</td>\n",
       "      <td>4769.0</td>\n",
       "      <td>2.219909e+08</td>\n",
       "      <td>46548.739987</td>\n",
       "    </tr>\n",
       "    <tr>\n",
       "      <th>3</th>\n",
       "      <td>2008</td>\n",
       "      <td>5607.0</td>\n",
       "      <td>6.101331e+08</td>\n",
       "      <td>108816.324059</td>\n",
       "    </tr>\n",
       "    <tr>\n",
       "      <th>4</th>\n",
       "      <td>2009</td>\n",
       "      <td>9726.0</td>\n",
       "      <td>8.066583e+08</td>\n",
       "      <td>82938.340428</td>\n",
       "    </tr>\n",
       "    <tr>\n",
       "      <th>...</th>\n",
       "      <td>...</td>\n",
       "      <td>...</td>\n",
       "      <td>...</td>\n",
       "      <td>...</td>\n",
       "    </tr>\n",
       "    <tr>\n",
       "      <th>2567</th>\n",
       "      <td>QLD other</td>\n",
       "      <td>7844.0</td>\n",
       "      <td>4.852196e+08</td>\n",
       "      <td>61858.691484</td>\n",
       "    </tr>\n",
       "    <tr>\n",
       "      <th>2568</th>\n",
       "      <td>SA other</td>\n",
       "      <td>2494.0</td>\n",
       "      <td>1.590458e+08</td>\n",
       "      <td>63771.366480</td>\n",
       "    </tr>\n",
       "    <tr>\n",
       "      <th>2569</th>\n",
       "      <td>TAS other</td>\n",
       "      <td>1544.0</td>\n",
       "      <td>8.701366e+07</td>\n",
       "      <td>56355.996762</td>\n",
       "    </tr>\n",
       "    <tr>\n",
       "      <th>2570</th>\n",
       "      <td>VIC other</td>\n",
       "      <td>12883.0</td>\n",
       "      <td>7.990076e+08</td>\n",
       "      <td>62020.302880</td>\n",
       "    </tr>\n",
       "    <tr>\n",
       "      <th>2571</th>\n",
       "      <td>WA other</td>\n",
       "      <td>16233.0</td>\n",
       "      <td>1.219075e+09</td>\n",
       "      <td>75098.591511</td>\n",
       "    </tr>\n",
       "  </tbody>\n",
       "</table>\n",
       "<p>2572 rows × 4 columns</p>\n",
       "</div>"
      ],
      "text/plain": [
       "       Postcode  Number of individuals\\nno.  Taxable income or loss3\\n$  \\\n",
       "0          2000                     36185.0                1.726846e+09   \n",
       "1          2006                        83.0                6.715139e+06   \n",
       "2          2007                      4769.0                2.219909e+08   \n",
       "3          2008                      5607.0                6.101331e+08   \n",
       "4          2009                      9726.0                8.066583e+08   \n",
       "...         ...                         ...                         ...   \n",
       "2567  QLD other                      7844.0                4.852196e+08   \n",
       "2568   SA other                      2494.0                1.590458e+08   \n",
       "2569  TAS other                      1544.0                8.701366e+07   \n",
       "2570  VIC other                     12883.0                7.990076e+08   \n",
       "2571   WA other                     16233.0                1.219075e+09   \n",
       "\n",
       "        mean_income  \n",
       "0      47722.712892  \n",
       "1      80905.289157  \n",
       "2      46548.739987  \n",
       "3     108816.324059  \n",
       "4      82938.340428  \n",
       "...             ...  \n",
       "2567   61858.691484  \n",
       "2568   63771.366480  \n",
       "2569   56355.996762  \n",
       "2570   62020.302880  \n",
       "2571   75098.591511  \n",
       "\n",
       "[2572 rows x 4 columns]"
      ]
     },
     "execution_count": 7,
     "metadata": {},
     "output_type": "execute_result"
    }
   ],
   "source": [
    "income_agg_df"
   ]
  },
  {
   "cell_type": "code",
   "execution_count": 20,
   "metadata": {},
   "outputs": [],
   "source": [
    "df.loc[df['Schedule'].str.startswith('Every'), 'collection_frquency_by_week'] = 1\n",
    "df.loc[df['Schedule'].str.startswith('Fortnightly'), 'collection_frquency_by_week'] = 0.5"
   ]
  },
  {
   "cell_type": "code",
   "execution_count": 21,
   "metadata": {},
   "outputs": [],
   "source": [
    "df['waste_weight_by_week'] = df['Weight'] * df['collection_frquency_by_week']\n",
    "df['recycled_waste_weight_by_week'] = df['Recycled Weight'] * df['collection_frquency_by_week']"
   ]
  },
  {
   "cell_type": "code",
   "execution_count": 22,
   "metadata": {},
   "outputs": [
    {
     "data": {
      "text/html": [
       "<div>\n",
       "<style scoped>\n",
       "    .dataframe tbody tr th:only-of-type {\n",
       "        vertical-align: middle;\n",
       "    }\n",
       "\n",
       "    .dataframe tbody tr th {\n",
       "        vertical-align: top;\n",
       "    }\n",
       "\n",
       "    .dataframe thead th {\n",
       "        text-align: right;\n",
       "    }\n",
       "</style>\n",
       "<table border=\"1\" class=\"dataframe\">\n",
       "  <thead>\n",
       "    <tr style=\"text-align: right;\">\n",
       "      <th></th>\n",
       "      <th>post_code</th>\n",
       "      <th>waste_weight_by_week</th>\n",
       "      <th>recycled_waste_weight_by_week</th>\n",
       "      <th>Total Units</th>\n",
       "      <th>weekly_weight_by_unit</th>\n",
       "      <th>weekly_recycled_waste_weight_by_unit</th>\n",
       "      <th>pct_recycled_waste</th>\n",
       "    </tr>\n",
       "  </thead>\n",
       "  <tbody>\n",
       "    <tr>\n",
       "      <th>0</th>\n",
       "      <td>2031</td>\n",
       "      <td>602905.85</td>\n",
       "      <td>237374.10</td>\n",
       "      <td>285785.0</td>\n",
       "      <td>2.109648</td>\n",
       "      <td>0.830604</td>\n",
       "      <td>39.371670</td>\n",
       "    </tr>\n",
       "    <tr>\n",
       "      <th>1</th>\n",
       "      <td>2032</td>\n",
       "      <td>296098.35</td>\n",
       "      <td>116230.25</td>\n",
       "      <td>102558.0</td>\n",
       "      <td>2.887131</td>\n",
       "      <td>1.133312</td>\n",
       "      <td>39.253934</td>\n",
       "    </tr>\n",
       "    <tr>\n",
       "      <th>2</th>\n",
       "      <td>2033</td>\n",
       "      <td>171357.45</td>\n",
       "      <td>74745.90</td>\n",
       "      <td>84312.0</td>\n",
       "      <td>2.032421</td>\n",
       "      <td>0.886539</td>\n",
       "      <td>43.619872</td>\n",
       "    </tr>\n",
       "    <tr>\n",
       "      <th>3</th>\n",
       "      <td>2034</td>\n",
       "      <td>514992.55</td>\n",
       "      <td>187825.30</td>\n",
       "      <td>204147.0</td>\n",
       "      <td>2.522655</td>\n",
       "      <td>0.920049</td>\n",
       "      <td>36.471460</td>\n",
       "    </tr>\n",
       "    <tr>\n",
       "      <th>4</th>\n",
       "      <td>2036</td>\n",
       "      <td>508302.45</td>\n",
       "      <td>149193.75</td>\n",
       "      <td>107000.0</td>\n",
       "      <td>4.750490</td>\n",
       "      <td>1.394334</td>\n",
       "      <td>29.351373</td>\n",
       "    </tr>\n",
       "  </tbody>\n",
       "</table>\n",
       "</div>"
      ],
      "text/plain": [
       "  post_code  waste_weight_by_week  recycled_waste_weight_by_week  Total Units  \\\n",
       "0      2031             602905.85                      237374.10     285785.0   \n",
       "1      2032             296098.35                      116230.25     102558.0   \n",
       "2      2033             171357.45                       74745.90      84312.0   \n",
       "3      2034             514992.55                      187825.30     204147.0   \n",
       "4      2036             508302.45                      149193.75     107000.0   \n",
       "\n",
       "   weekly_weight_by_unit  weekly_recycled_waste_weight_by_unit  \\\n",
       "0               2.109648                              0.830604   \n",
       "1               2.887131                              1.133312   \n",
       "2               2.032421                              0.886539   \n",
       "3               2.522655                              0.920049   \n",
       "4               4.750490                              1.394334   \n",
       "\n",
       "   pct_recycled_waste  \n",
       "0           39.371670  \n",
       "1           39.253934  \n",
       "2           43.619872  \n",
       "3           36.471460  \n",
       "4           29.351373  "
      ]
     },
     "execution_count": 22,
     "metadata": {},
     "output_type": "execute_result"
    }
   ],
   "source": [
    "suburb_waste_df = df.groupby(\n",
    "    ['post_code']\n",
    ").agg({\n",
    "    'waste_weight_by_week': 'sum',\n",
    "    'recycled_waste_weight_by_week': 'sum',\n",
    "    'Total Units': 'sum'\n",
    "}).reset_index()\n",
    "\n",
    "suburb_waste_df['weekly_weight_by_unit'] = suburb_waste_df['waste_weight_by_week']/suburb_waste_df['Total Units']\n",
    "suburb_waste_df['weekly_recycled_waste_weight_by_unit'] = suburb_waste_df['recycled_waste_weight_by_week']/suburb_waste_df['Total Units']\n",
    "suburb_waste_df['pct_recycled_waste'] = 100*suburb_waste_df['recycled_waste_weight_by_week']/suburb_waste_df['waste_weight_by_week']\n",
    "suburb_waste_df['post_code'] = suburb_waste_df['post_code'].astype('str')\n",
    "suburb_waste_df"
   ]
  },
  {
   "cell_type": "code",
   "execution_count": 23,
   "metadata": {},
   "outputs": [],
   "source": [
    "merged_suburb_waste_df = suburb_waste_df.merge(income_agg_df[['mean_income', 'Postcode']],\n",
    "                                               left_on='post_code',\n",
    "                                               right_on='Postcode')"
   ]
  },
  {
   "cell_type": "code",
   "execution_count": 52,
   "metadata": {},
   "outputs": [
    {
     "data": {
      "application/vnd.plotly.v1+json": {
       "config": {
        "plotlyServerURL": "https://plot.ly"
       },
       "data": [
        {
         "hovertemplate": "weekly_weight_by_unit=%{marker.color}<br>mean_income=%{y}<extra></extra>",
         "legendgroup": "",
         "marker": {
          "color": [
           2.1096483370365835,
           2.887130696776458,
           2.0324206518645034,
           2.5226554884470502,
           4.750490186915888
          ],
          "coloraxis": "coloraxis",
          "symbol": "circle"
         },
         "mode": "markers",
         "name": "",
         "orientation": "v",
         "showlegend": false,
         "type": "scatter",
         "x": [
          2.1096483370365835,
          2.887130696776458,
          2.0324206518645034,
          2.5226554884470502,
          4.750490186915888
         ],
         "xaxis": "x",
         "y": [
          84638.99956668689,
          58458.46669838249,
          69138.0932642487,
          85732.66176785332,
          60829.032373435286
         ],
         "yaxis": "y"
        },
        {
         "hovertemplate": "<b>Rolling mean trendline</b><br><br>weekly_weight_by_unit=%{x}<br>mean_income=%{y} <b>(trend)</b><extra></extra>",
         "legendgroup": "",
         "marker": {
          "symbol": "circle"
         },
         "mode": "lines",
         "name": "",
         "showlegend": false,
         "type": "scatter",
         "x": [
          2.0324206518645034,
          2.1096483370365835,
          2.5226554884470502,
          2.887130696776458,
          4.750490186915888
         ],
         "xaxis": "x",
         "y": [
          null,
          null,
          null,
          null,
          71759.45073412135
         ],
         "yaxis": "y"
        }
       ],
       "layout": {
        "coloraxis": {
         "colorbar": {
          "title": {
           "text": "weekly_weight_by_unit"
          }
         },
         "colorscale": [
          [
           0,
           "#0d0887"
          ],
          [
           0.1111111111111111,
           "#46039f"
          ],
          [
           0.2222222222222222,
           "#7201a8"
          ],
          [
           0.3333333333333333,
           "#9c179e"
          ],
          [
           0.4444444444444444,
           "#bd3786"
          ],
          [
           0.5555555555555556,
           "#d8576b"
          ],
          [
           0.6666666666666666,
           "#ed7953"
          ],
          [
           0.7777777777777778,
           "#fb9f3a"
          ],
          [
           0.8888888888888888,
           "#fdca26"
          ],
          [
           1,
           "#f0f921"
          ]
         ]
        },
        "legend": {
         "tracegroupgap": 0
        },
        "template": {
         "data": {
          "bar": [
           {
            "error_x": {
             "color": "#2a3f5f"
            },
            "error_y": {
             "color": "#2a3f5f"
            },
            "marker": {
             "line": {
              "color": "#E5ECF6",
              "width": 0.5
             },
             "pattern": {
              "fillmode": "overlay",
              "size": 10,
              "solidity": 0.2
             }
            },
            "type": "bar"
           }
          ],
          "barpolar": [
           {
            "marker": {
             "line": {
              "color": "#E5ECF6",
              "width": 0.5
             },
             "pattern": {
              "fillmode": "overlay",
              "size": 10,
              "solidity": 0.2
             }
            },
            "type": "barpolar"
           }
          ],
          "carpet": [
           {
            "aaxis": {
             "endlinecolor": "#2a3f5f",
             "gridcolor": "white",
             "linecolor": "white",
             "minorgridcolor": "white",
             "startlinecolor": "#2a3f5f"
            },
            "baxis": {
             "endlinecolor": "#2a3f5f",
             "gridcolor": "white",
             "linecolor": "white",
             "minorgridcolor": "white",
             "startlinecolor": "#2a3f5f"
            },
            "type": "carpet"
           }
          ],
          "choropleth": [
           {
            "colorbar": {
             "outlinewidth": 0,
             "ticks": ""
            },
            "type": "choropleth"
           }
          ],
          "contour": [
           {
            "colorbar": {
             "outlinewidth": 0,
             "ticks": ""
            },
            "colorscale": [
             [
              0,
              "#0d0887"
             ],
             [
              0.1111111111111111,
              "#46039f"
             ],
             [
              0.2222222222222222,
              "#7201a8"
             ],
             [
              0.3333333333333333,
              "#9c179e"
             ],
             [
              0.4444444444444444,
              "#bd3786"
             ],
             [
              0.5555555555555556,
              "#d8576b"
             ],
             [
              0.6666666666666666,
              "#ed7953"
             ],
             [
              0.7777777777777778,
              "#fb9f3a"
             ],
             [
              0.8888888888888888,
              "#fdca26"
             ],
             [
              1,
              "#f0f921"
             ]
            ],
            "type": "contour"
           }
          ],
          "contourcarpet": [
           {
            "colorbar": {
             "outlinewidth": 0,
             "ticks": ""
            },
            "type": "contourcarpet"
           }
          ],
          "heatmap": [
           {
            "colorbar": {
             "outlinewidth": 0,
             "ticks": ""
            },
            "colorscale": [
             [
              0,
              "#0d0887"
             ],
             [
              0.1111111111111111,
              "#46039f"
             ],
             [
              0.2222222222222222,
              "#7201a8"
             ],
             [
              0.3333333333333333,
              "#9c179e"
             ],
             [
              0.4444444444444444,
              "#bd3786"
             ],
             [
              0.5555555555555556,
              "#d8576b"
             ],
             [
              0.6666666666666666,
              "#ed7953"
             ],
             [
              0.7777777777777778,
              "#fb9f3a"
             ],
             [
              0.8888888888888888,
              "#fdca26"
             ],
             [
              1,
              "#f0f921"
             ]
            ],
            "type": "heatmap"
           }
          ],
          "heatmapgl": [
           {
            "colorbar": {
             "outlinewidth": 0,
             "ticks": ""
            },
            "colorscale": [
             [
              0,
              "#0d0887"
             ],
             [
              0.1111111111111111,
              "#46039f"
             ],
             [
              0.2222222222222222,
              "#7201a8"
             ],
             [
              0.3333333333333333,
              "#9c179e"
             ],
             [
              0.4444444444444444,
              "#bd3786"
             ],
             [
              0.5555555555555556,
              "#d8576b"
             ],
             [
              0.6666666666666666,
              "#ed7953"
             ],
             [
              0.7777777777777778,
              "#fb9f3a"
             ],
             [
              0.8888888888888888,
              "#fdca26"
             ],
             [
              1,
              "#f0f921"
             ]
            ],
            "type": "heatmapgl"
           }
          ],
          "histogram": [
           {
            "marker": {
             "pattern": {
              "fillmode": "overlay",
              "size": 10,
              "solidity": 0.2
             }
            },
            "type": "histogram"
           }
          ],
          "histogram2d": [
           {
            "colorbar": {
             "outlinewidth": 0,
             "ticks": ""
            },
            "colorscale": [
             [
              0,
              "#0d0887"
             ],
             [
              0.1111111111111111,
              "#46039f"
             ],
             [
              0.2222222222222222,
              "#7201a8"
             ],
             [
              0.3333333333333333,
              "#9c179e"
             ],
             [
              0.4444444444444444,
              "#bd3786"
             ],
             [
              0.5555555555555556,
              "#d8576b"
             ],
             [
              0.6666666666666666,
              "#ed7953"
             ],
             [
              0.7777777777777778,
              "#fb9f3a"
             ],
             [
              0.8888888888888888,
              "#fdca26"
             ],
             [
              1,
              "#f0f921"
             ]
            ],
            "type": "histogram2d"
           }
          ],
          "histogram2dcontour": [
           {
            "colorbar": {
             "outlinewidth": 0,
             "ticks": ""
            },
            "colorscale": [
             [
              0,
              "#0d0887"
             ],
             [
              0.1111111111111111,
              "#46039f"
             ],
             [
              0.2222222222222222,
              "#7201a8"
             ],
             [
              0.3333333333333333,
              "#9c179e"
             ],
             [
              0.4444444444444444,
              "#bd3786"
             ],
             [
              0.5555555555555556,
              "#d8576b"
             ],
             [
              0.6666666666666666,
              "#ed7953"
             ],
             [
              0.7777777777777778,
              "#fb9f3a"
             ],
             [
              0.8888888888888888,
              "#fdca26"
             ],
             [
              1,
              "#f0f921"
             ]
            ],
            "type": "histogram2dcontour"
           }
          ],
          "mesh3d": [
           {
            "colorbar": {
             "outlinewidth": 0,
             "ticks": ""
            },
            "type": "mesh3d"
           }
          ],
          "parcoords": [
           {
            "line": {
             "colorbar": {
              "outlinewidth": 0,
              "ticks": ""
             }
            },
            "type": "parcoords"
           }
          ],
          "pie": [
           {
            "automargin": true,
            "type": "pie"
           }
          ],
          "scatter": [
           {
            "fillpattern": {
             "fillmode": "overlay",
             "size": 10,
             "solidity": 0.2
            },
            "type": "scatter"
           }
          ],
          "scatter3d": [
           {
            "line": {
             "colorbar": {
              "outlinewidth": 0,
              "ticks": ""
             }
            },
            "marker": {
             "colorbar": {
              "outlinewidth": 0,
              "ticks": ""
             }
            },
            "type": "scatter3d"
           }
          ],
          "scattercarpet": [
           {
            "marker": {
             "colorbar": {
              "outlinewidth": 0,
              "ticks": ""
             }
            },
            "type": "scattercarpet"
           }
          ],
          "scattergeo": [
           {
            "marker": {
             "colorbar": {
              "outlinewidth": 0,
              "ticks": ""
             }
            },
            "type": "scattergeo"
           }
          ],
          "scattergl": [
           {
            "marker": {
             "colorbar": {
              "outlinewidth": 0,
              "ticks": ""
             }
            },
            "type": "scattergl"
           }
          ],
          "scattermapbox": [
           {
            "marker": {
             "colorbar": {
              "outlinewidth": 0,
              "ticks": ""
             }
            },
            "type": "scattermapbox"
           }
          ],
          "scatterpolar": [
           {
            "marker": {
             "colorbar": {
              "outlinewidth": 0,
              "ticks": ""
             }
            },
            "type": "scatterpolar"
           }
          ],
          "scatterpolargl": [
           {
            "marker": {
             "colorbar": {
              "outlinewidth": 0,
              "ticks": ""
             }
            },
            "type": "scatterpolargl"
           }
          ],
          "scatterternary": [
           {
            "marker": {
             "colorbar": {
              "outlinewidth": 0,
              "ticks": ""
             }
            },
            "type": "scatterternary"
           }
          ],
          "surface": [
           {
            "colorbar": {
             "outlinewidth": 0,
             "ticks": ""
            },
            "colorscale": [
             [
              0,
              "#0d0887"
             ],
             [
              0.1111111111111111,
              "#46039f"
             ],
             [
              0.2222222222222222,
              "#7201a8"
             ],
             [
              0.3333333333333333,
              "#9c179e"
             ],
             [
              0.4444444444444444,
              "#bd3786"
             ],
             [
              0.5555555555555556,
              "#d8576b"
             ],
             [
              0.6666666666666666,
              "#ed7953"
             ],
             [
              0.7777777777777778,
              "#fb9f3a"
             ],
             [
              0.8888888888888888,
              "#fdca26"
             ],
             [
              1,
              "#f0f921"
             ]
            ],
            "type": "surface"
           }
          ],
          "table": [
           {
            "cells": {
             "fill": {
              "color": "#EBF0F8"
             },
             "line": {
              "color": "white"
             }
            },
            "header": {
             "fill": {
              "color": "#C8D4E3"
             },
             "line": {
              "color": "white"
             }
            },
            "type": "table"
           }
          ]
         },
         "layout": {
          "annotationdefaults": {
           "arrowcolor": "#2a3f5f",
           "arrowhead": 0,
           "arrowwidth": 1
          },
          "autotypenumbers": "strict",
          "coloraxis": {
           "colorbar": {
            "outlinewidth": 0,
            "ticks": ""
           }
          },
          "colorscale": {
           "diverging": [
            [
             0,
             "#8e0152"
            ],
            [
             0.1,
             "#c51b7d"
            ],
            [
             0.2,
             "#de77ae"
            ],
            [
             0.3,
             "#f1b6da"
            ],
            [
             0.4,
             "#fde0ef"
            ],
            [
             0.5,
             "#f7f7f7"
            ],
            [
             0.6,
             "#e6f5d0"
            ],
            [
             0.7,
             "#b8e186"
            ],
            [
             0.8,
             "#7fbc41"
            ],
            [
             0.9,
             "#4d9221"
            ],
            [
             1,
             "#276419"
            ]
           ],
           "sequential": [
            [
             0,
             "#0d0887"
            ],
            [
             0.1111111111111111,
             "#46039f"
            ],
            [
             0.2222222222222222,
             "#7201a8"
            ],
            [
             0.3333333333333333,
             "#9c179e"
            ],
            [
             0.4444444444444444,
             "#bd3786"
            ],
            [
             0.5555555555555556,
             "#d8576b"
            ],
            [
             0.6666666666666666,
             "#ed7953"
            ],
            [
             0.7777777777777778,
             "#fb9f3a"
            ],
            [
             0.8888888888888888,
             "#fdca26"
            ],
            [
             1,
             "#f0f921"
            ]
           ],
           "sequentialminus": [
            [
             0,
             "#0d0887"
            ],
            [
             0.1111111111111111,
             "#46039f"
            ],
            [
             0.2222222222222222,
             "#7201a8"
            ],
            [
             0.3333333333333333,
             "#9c179e"
            ],
            [
             0.4444444444444444,
             "#bd3786"
            ],
            [
             0.5555555555555556,
             "#d8576b"
            ],
            [
             0.6666666666666666,
             "#ed7953"
            ],
            [
             0.7777777777777778,
             "#fb9f3a"
            ],
            [
             0.8888888888888888,
             "#fdca26"
            ],
            [
             1,
             "#f0f921"
            ]
           ]
          },
          "colorway": [
           "#636efa",
           "#EF553B",
           "#00cc96",
           "#ab63fa",
           "#FFA15A",
           "#19d3f3",
           "#FF6692",
           "#B6E880",
           "#FF97FF",
           "#FECB52"
          ],
          "font": {
           "color": "#2a3f5f"
          },
          "geo": {
           "bgcolor": "white",
           "lakecolor": "white",
           "landcolor": "#E5ECF6",
           "showlakes": true,
           "showland": true,
           "subunitcolor": "white"
          },
          "hoverlabel": {
           "align": "left"
          },
          "hovermode": "closest",
          "mapbox": {
           "style": "light"
          },
          "paper_bgcolor": "white",
          "plot_bgcolor": "#E5ECF6",
          "polar": {
           "angularaxis": {
            "gridcolor": "white",
            "linecolor": "white",
            "ticks": ""
           },
           "bgcolor": "#E5ECF6",
           "radialaxis": {
            "gridcolor": "white",
            "linecolor": "white",
            "ticks": ""
           }
          },
          "scene": {
           "xaxis": {
            "backgroundcolor": "#E5ECF6",
            "gridcolor": "white",
            "gridwidth": 2,
            "linecolor": "white",
            "showbackground": true,
            "ticks": "",
            "zerolinecolor": "white"
           },
           "yaxis": {
            "backgroundcolor": "#E5ECF6",
            "gridcolor": "white",
            "gridwidth": 2,
            "linecolor": "white",
            "showbackground": true,
            "ticks": "",
            "zerolinecolor": "white"
           },
           "zaxis": {
            "backgroundcolor": "#E5ECF6",
            "gridcolor": "white",
            "gridwidth": 2,
            "linecolor": "white",
            "showbackground": true,
            "ticks": "",
            "zerolinecolor": "white"
           }
          },
          "shapedefaults": {
           "line": {
            "color": "#2a3f5f"
           }
          },
          "ternary": {
           "aaxis": {
            "gridcolor": "white",
            "linecolor": "white",
            "ticks": ""
           },
           "baxis": {
            "gridcolor": "white",
            "linecolor": "white",
            "ticks": ""
           },
           "bgcolor": "#E5ECF6",
           "caxis": {
            "gridcolor": "white",
            "linecolor": "white",
            "ticks": ""
           }
          },
          "title": {
           "x": 0.05
          },
          "xaxis": {
           "automargin": true,
           "gridcolor": "white",
           "linecolor": "white",
           "ticks": "",
           "title": {
            "standoff": 15
           },
           "zerolinecolor": "white",
           "zerolinewidth": 2
          },
          "yaxis": {
           "automargin": true,
           "gridcolor": "white",
           "linecolor": "white",
           "ticks": "",
           "title": {
            "standoff": 15
           },
           "zerolinecolor": "white",
           "zerolinewidth": 2
          }
         }
        },
        "title": {
         "text": "weekly_weight_by_unit"
        },
        "xaxis": {
         "anchor": "y",
         "domain": [
          0,
          1
         ],
         "title": {
          "text": "weekly_weight_by_unit"
         }
        },
        "yaxis": {
         "anchor": "x",
         "domain": [
          0,
          1
         ],
         "title": {
          "text": "mean_income"
         }
        }
       }
      }
     },
     "metadata": {},
     "output_type": "display_data"
    },
    {
     "data": {
      "text/plain": [
       "<Figure size 1x1 with 0 Axes>"
      ]
     },
     "metadata": {},
     "output_type": "display_data"
    }
   ],
   "source": [
    "plt.figure(figsize=(0.01,0.01))\n",
    "px.scatter(merged_suburb_waste_df, x = 'weekly_weight_by_unit', y = 'mean_income', \n",
    "           color = 'weekly_weight_by_unit', trendline=\"rolling\", trendline_options=dict(window=5),\n",
    "           title= 'weekly_weight_by_unit')\n",
    "\n",
    "\n"
   ]
  },
  {
   "cell_type": "code",
   "execution_count": 26,
   "metadata": {},
   "outputs": [
    {
     "data": {
      "application/vnd.plotly.v1+json": {
       "config": {
        "plotlyServerURL": "https://plot.ly"
       },
       "data": [
        {
         "hovertemplate": "pct_recycled_waste=%{marker.color}<br>mean_income=%{y}<extra></extra>",
         "legendgroup": "",
         "marker": {
          "color": [
           39.37166972256116,
           39.25393370142049,
           43.619871794310654,
           36.47145963567822,
           29.351373380159785
          ],
          "coloraxis": "coloraxis",
          "symbol": "circle"
         },
         "mode": "markers",
         "name": "",
         "orientation": "v",
         "showlegend": false,
         "type": "scatter",
         "x": [
          39.37166972256116,
          39.25393370142049,
          43.619871794310654,
          36.47145963567822,
          29.351373380159785
         ],
         "xaxis": "x",
         "y": [
          84638.99956668689,
          58458.46669838249,
          69138.0932642487,
          85732.66176785332,
          60829.032373435286
         ],
         "yaxis": "y"
        },
        {
         "hovertemplate": "<b>Rolling mean trendline</b><br><br>pct_recycled_waste=%{x}<br>mean_income=%{y} <b>(trend)</b><extra></extra>",
         "legendgroup": "",
         "marker": {
          "symbol": "circle"
         },
         "mode": "lines",
         "name": "",
         "showlegend": false,
         "type": "scatter",
         "x": [
          29.351373380159785,
          36.47145963567822,
          39.25393370142049,
          39.37166972256116,
          43.619871794310654
         ],
         "xaxis": "x",
         "y": [
          null,
          null,
          null,
          null,
          71759.45073412135
         ],
         "yaxis": "y"
        }
       ],
       "layout": {
        "coloraxis": {
         "colorbar": {
          "title": {
           "text": "pct_recycled_waste"
          }
         },
         "colorscale": [
          [
           0,
           "#0d0887"
          ],
          [
           0.1111111111111111,
           "#46039f"
          ],
          [
           0.2222222222222222,
           "#7201a8"
          ],
          [
           0.3333333333333333,
           "#9c179e"
          ],
          [
           0.4444444444444444,
           "#bd3786"
          ],
          [
           0.5555555555555556,
           "#d8576b"
          ],
          [
           0.6666666666666666,
           "#ed7953"
          ],
          [
           0.7777777777777778,
           "#fb9f3a"
          ],
          [
           0.8888888888888888,
           "#fdca26"
          ],
          [
           1,
           "#f0f921"
          ]
         ]
        },
        "legend": {
         "tracegroupgap": 0
        },
        "template": {
         "data": {
          "bar": [
           {
            "error_x": {
             "color": "#2a3f5f"
            },
            "error_y": {
             "color": "#2a3f5f"
            },
            "marker": {
             "line": {
              "color": "#E5ECF6",
              "width": 0.5
             },
             "pattern": {
              "fillmode": "overlay",
              "size": 10,
              "solidity": 0.2
             }
            },
            "type": "bar"
           }
          ],
          "barpolar": [
           {
            "marker": {
             "line": {
              "color": "#E5ECF6",
              "width": 0.5
             },
             "pattern": {
              "fillmode": "overlay",
              "size": 10,
              "solidity": 0.2
             }
            },
            "type": "barpolar"
           }
          ],
          "carpet": [
           {
            "aaxis": {
             "endlinecolor": "#2a3f5f",
             "gridcolor": "white",
             "linecolor": "white",
             "minorgridcolor": "white",
             "startlinecolor": "#2a3f5f"
            },
            "baxis": {
             "endlinecolor": "#2a3f5f",
             "gridcolor": "white",
             "linecolor": "white",
             "minorgridcolor": "white",
             "startlinecolor": "#2a3f5f"
            },
            "type": "carpet"
           }
          ],
          "choropleth": [
           {
            "colorbar": {
             "outlinewidth": 0,
             "ticks": ""
            },
            "type": "choropleth"
           }
          ],
          "contour": [
           {
            "colorbar": {
             "outlinewidth": 0,
             "ticks": ""
            },
            "colorscale": [
             [
              0,
              "#0d0887"
             ],
             [
              0.1111111111111111,
              "#46039f"
             ],
             [
              0.2222222222222222,
              "#7201a8"
             ],
             [
              0.3333333333333333,
              "#9c179e"
             ],
             [
              0.4444444444444444,
              "#bd3786"
             ],
             [
              0.5555555555555556,
              "#d8576b"
             ],
             [
              0.6666666666666666,
              "#ed7953"
             ],
             [
              0.7777777777777778,
              "#fb9f3a"
             ],
             [
              0.8888888888888888,
              "#fdca26"
             ],
             [
              1,
              "#f0f921"
             ]
            ],
            "type": "contour"
           }
          ],
          "contourcarpet": [
           {
            "colorbar": {
             "outlinewidth": 0,
             "ticks": ""
            },
            "type": "contourcarpet"
           }
          ],
          "heatmap": [
           {
            "colorbar": {
             "outlinewidth": 0,
             "ticks": ""
            },
            "colorscale": [
             [
              0,
              "#0d0887"
             ],
             [
              0.1111111111111111,
              "#46039f"
             ],
             [
              0.2222222222222222,
              "#7201a8"
             ],
             [
              0.3333333333333333,
              "#9c179e"
             ],
             [
              0.4444444444444444,
              "#bd3786"
             ],
             [
              0.5555555555555556,
              "#d8576b"
             ],
             [
              0.6666666666666666,
              "#ed7953"
             ],
             [
              0.7777777777777778,
              "#fb9f3a"
             ],
             [
              0.8888888888888888,
              "#fdca26"
             ],
             [
              1,
              "#f0f921"
             ]
            ],
            "type": "heatmap"
           }
          ],
          "heatmapgl": [
           {
            "colorbar": {
             "outlinewidth": 0,
             "ticks": ""
            },
            "colorscale": [
             [
              0,
              "#0d0887"
             ],
             [
              0.1111111111111111,
              "#46039f"
             ],
             [
              0.2222222222222222,
              "#7201a8"
             ],
             [
              0.3333333333333333,
              "#9c179e"
             ],
             [
              0.4444444444444444,
              "#bd3786"
             ],
             [
              0.5555555555555556,
              "#d8576b"
             ],
             [
              0.6666666666666666,
              "#ed7953"
             ],
             [
              0.7777777777777778,
              "#fb9f3a"
             ],
             [
              0.8888888888888888,
              "#fdca26"
             ],
             [
              1,
              "#f0f921"
             ]
            ],
            "type": "heatmapgl"
           }
          ],
          "histogram": [
           {
            "marker": {
             "pattern": {
              "fillmode": "overlay",
              "size": 10,
              "solidity": 0.2
             }
            },
            "type": "histogram"
           }
          ],
          "histogram2d": [
           {
            "colorbar": {
             "outlinewidth": 0,
             "ticks": ""
            },
            "colorscale": [
             [
              0,
              "#0d0887"
             ],
             [
              0.1111111111111111,
              "#46039f"
             ],
             [
              0.2222222222222222,
              "#7201a8"
             ],
             [
              0.3333333333333333,
              "#9c179e"
             ],
             [
              0.4444444444444444,
              "#bd3786"
             ],
             [
              0.5555555555555556,
              "#d8576b"
             ],
             [
              0.6666666666666666,
              "#ed7953"
             ],
             [
              0.7777777777777778,
              "#fb9f3a"
             ],
             [
              0.8888888888888888,
              "#fdca26"
             ],
             [
              1,
              "#f0f921"
             ]
            ],
            "type": "histogram2d"
           }
          ],
          "histogram2dcontour": [
           {
            "colorbar": {
             "outlinewidth": 0,
             "ticks": ""
            },
            "colorscale": [
             [
              0,
              "#0d0887"
             ],
             [
              0.1111111111111111,
              "#46039f"
             ],
             [
              0.2222222222222222,
              "#7201a8"
             ],
             [
              0.3333333333333333,
              "#9c179e"
             ],
             [
              0.4444444444444444,
              "#bd3786"
             ],
             [
              0.5555555555555556,
              "#d8576b"
             ],
             [
              0.6666666666666666,
              "#ed7953"
             ],
             [
              0.7777777777777778,
              "#fb9f3a"
             ],
             [
              0.8888888888888888,
              "#fdca26"
             ],
             [
              1,
              "#f0f921"
             ]
            ],
            "type": "histogram2dcontour"
           }
          ],
          "mesh3d": [
           {
            "colorbar": {
             "outlinewidth": 0,
             "ticks": ""
            },
            "type": "mesh3d"
           }
          ],
          "parcoords": [
           {
            "line": {
             "colorbar": {
              "outlinewidth": 0,
              "ticks": ""
             }
            },
            "type": "parcoords"
           }
          ],
          "pie": [
           {
            "automargin": true,
            "type": "pie"
           }
          ],
          "scatter": [
           {
            "fillpattern": {
             "fillmode": "overlay",
             "size": 10,
             "solidity": 0.2
            },
            "type": "scatter"
           }
          ],
          "scatter3d": [
           {
            "line": {
             "colorbar": {
              "outlinewidth": 0,
              "ticks": ""
             }
            },
            "marker": {
             "colorbar": {
              "outlinewidth": 0,
              "ticks": ""
             }
            },
            "type": "scatter3d"
           }
          ],
          "scattercarpet": [
           {
            "marker": {
             "colorbar": {
              "outlinewidth": 0,
              "ticks": ""
             }
            },
            "type": "scattercarpet"
           }
          ],
          "scattergeo": [
           {
            "marker": {
             "colorbar": {
              "outlinewidth": 0,
              "ticks": ""
             }
            },
            "type": "scattergeo"
           }
          ],
          "scattergl": [
           {
            "marker": {
             "colorbar": {
              "outlinewidth": 0,
              "ticks": ""
             }
            },
            "type": "scattergl"
           }
          ],
          "scattermapbox": [
           {
            "marker": {
             "colorbar": {
              "outlinewidth": 0,
              "ticks": ""
             }
            },
            "type": "scattermapbox"
           }
          ],
          "scatterpolar": [
           {
            "marker": {
             "colorbar": {
              "outlinewidth": 0,
              "ticks": ""
             }
            },
            "type": "scatterpolar"
           }
          ],
          "scatterpolargl": [
           {
            "marker": {
             "colorbar": {
              "outlinewidth": 0,
              "ticks": ""
             }
            },
            "type": "scatterpolargl"
           }
          ],
          "scatterternary": [
           {
            "marker": {
             "colorbar": {
              "outlinewidth": 0,
              "ticks": ""
             }
            },
            "type": "scatterternary"
           }
          ],
          "surface": [
           {
            "colorbar": {
             "outlinewidth": 0,
             "ticks": ""
            },
            "colorscale": [
             [
              0,
              "#0d0887"
             ],
             [
              0.1111111111111111,
              "#46039f"
             ],
             [
              0.2222222222222222,
              "#7201a8"
             ],
             [
              0.3333333333333333,
              "#9c179e"
             ],
             [
              0.4444444444444444,
              "#bd3786"
             ],
             [
              0.5555555555555556,
              "#d8576b"
             ],
             [
              0.6666666666666666,
              "#ed7953"
             ],
             [
              0.7777777777777778,
              "#fb9f3a"
             ],
             [
              0.8888888888888888,
              "#fdca26"
             ],
             [
              1,
              "#f0f921"
             ]
            ],
            "type": "surface"
           }
          ],
          "table": [
           {
            "cells": {
             "fill": {
              "color": "#EBF0F8"
             },
             "line": {
              "color": "white"
             }
            },
            "header": {
             "fill": {
              "color": "#C8D4E3"
             },
             "line": {
              "color": "white"
             }
            },
            "type": "table"
           }
          ]
         },
         "layout": {
          "annotationdefaults": {
           "arrowcolor": "#2a3f5f",
           "arrowhead": 0,
           "arrowwidth": 1
          },
          "autotypenumbers": "strict",
          "coloraxis": {
           "colorbar": {
            "outlinewidth": 0,
            "ticks": ""
           }
          },
          "colorscale": {
           "diverging": [
            [
             0,
             "#8e0152"
            ],
            [
             0.1,
             "#c51b7d"
            ],
            [
             0.2,
             "#de77ae"
            ],
            [
             0.3,
             "#f1b6da"
            ],
            [
             0.4,
             "#fde0ef"
            ],
            [
             0.5,
             "#f7f7f7"
            ],
            [
             0.6,
             "#e6f5d0"
            ],
            [
             0.7,
             "#b8e186"
            ],
            [
             0.8,
             "#7fbc41"
            ],
            [
             0.9,
             "#4d9221"
            ],
            [
             1,
             "#276419"
            ]
           ],
           "sequential": [
            [
             0,
             "#0d0887"
            ],
            [
             0.1111111111111111,
             "#46039f"
            ],
            [
             0.2222222222222222,
             "#7201a8"
            ],
            [
             0.3333333333333333,
             "#9c179e"
            ],
            [
             0.4444444444444444,
             "#bd3786"
            ],
            [
             0.5555555555555556,
             "#d8576b"
            ],
            [
             0.6666666666666666,
             "#ed7953"
            ],
            [
             0.7777777777777778,
             "#fb9f3a"
            ],
            [
             0.8888888888888888,
             "#fdca26"
            ],
            [
             1,
             "#f0f921"
            ]
           ],
           "sequentialminus": [
            [
             0,
             "#0d0887"
            ],
            [
             0.1111111111111111,
             "#46039f"
            ],
            [
             0.2222222222222222,
             "#7201a8"
            ],
            [
             0.3333333333333333,
             "#9c179e"
            ],
            [
             0.4444444444444444,
             "#bd3786"
            ],
            [
             0.5555555555555556,
             "#d8576b"
            ],
            [
             0.6666666666666666,
             "#ed7953"
            ],
            [
             0.7777777777777778,
             "#fb9f3a"
            ],
            [
             0.8888888888888888,
             "#fdca26"
            ],
            [
             1,
             "#f0f921"
            ]
           ]
          },
          "colorway": [
           "#636efa",
           "#EF553B",
           "#00cc96",
           "#ab63fa",
           "#FFA15A",
           "#19d3f3",
           "#FF6692",
           "#B6E880",
           "#FF97FF",
           "#FECB52"
          ],
          "font": {
           "color": "#2a3f5f"
          },
          "geo": {
           "bgcolor": "white",
           "lakecolor": "white",
           "landcolor": "#E5ECF6",
           "showlakes": true,
           "showland": true,
           "subunitcolor": "white"
          },
          "hoverlabel": {
           "align": "left"
          },
          "hovermode": "closest",
          "mapbox": {
           "style": "light"
          },
          "paper_bgcolor": "white",
          "plot_bgcolor": "#E5ECF6",
          "polar": {
           "angularaxis": {
            "gridcolor": "white",
            "linecolor": "white",
            "ticks": ""
           },
           "bgcolor": "#E5ECF6",
           "radialaxis": {
            "gridcolor": "white",
            "linecolor": "white",
            "ticks": ""
           }
          },
          "scene": {
           "xaxis": {
            "backgroundcolor": "#E5ECF6",
            "gridcolor": "white",
            "gridwidth": 2,
            "linecolor": "white",
            "showbackground": true,
            "ticks": "",
            "zerolinecolor": "white"
           },
           "yaxis": {
            "backgroundcolor": "#E5ECF6",
            "gridcolor": "white",
            "gridwidth": 2,
            "linecolor": "white",
            "showbackground": true,
            "ticks": "",
            "zerolinecolor": "white"
           },
           "zaxis": {
            "backgroundcolor": "#E5ECF6",
            "gridcolor": "white",
            "gridwidth": 2,
            "linecolor": "white",
            "showbackground": true,
            "ticks": "",
            "zerolinecolor": "white"
           }
          },
          "shapedefaults": {
           "line": {
            "color": "#2a3f5f"
           }
          },
          "ternary": {
           "aaxis": {
            "gridcolor": "white",
            "linecolor": "white",
            "ticks": ""
           },
           "baxis": {
            "gridcolor": "white",
            "linecolor": "white",
            "ticks": ""
           },
           "bgcolor": "#E5ECF6",
           "caxis": {
            "gridcolor": "white",
            "linecolor": "white",
            "ticks": ""
           }
          },
          "title": {
           "x": 0.05
          },
          "xaxis": {
           "automargin": true,
           "gridcolor": "white",
           "linecolor": "white",
           "ticks": "",
           "title": {
            "standoff": 15
           },
           "zerolinecolor": "white",
           "zerolinewidth": 2
          },
          "yaxis": {
           "automargin": true,
           "gridcolor": "white",
           "linecolor": "white",
           "ticks": "",
           "title": {
            "standoff": 15
           },
           "zerolinecolor": "white",
           "zerolinewidth": 2
          }
         }
        },
        "title": {
         "text": "pct_recycled_waste"
        },
        "xaxis": {
         "anchor": "y",
         "domain": [
          0,
          1
         ],
         "title": {
          "text": "pct_recycled_waste"
         }
        },
        "yaxis": {
         "anchor": "x",
         "domain": [
          0,
          1
         ],
         "title": {
          "text": "mean_income"
         }
        }
       }
      }
     },
     "metadata": {},
     "output_type": "display_data"
    }
   ],
   "source": [
    "px.scatter(merged_suburb_waste_df, x = 'pct_recycled_waste', y = 'mean_income', \n",
    "           color = 'pct_recycled_waste', trendline=\"rolling\", trendline_options=dict(window=5),\n",
    "           title= 'pct_recycled_waste')"
   ]
  },
  {
   "cell_type": "code",
   "execution_count": 64,
   "metadata": {},
   "outputs": [
    {
     "data": {
      "image/png": "[encoded data removed]",
      "text/plain": [
       "<Figure size 640x480 with 1 Axes>"
      ]
     },
     "metadata": {},
     "output_type": "display_data"
    }
   ],
   "source": [
    "\n",
    "plt.scatter(merged_suburb_waste_df['weekly_weight_by_unit'], merged_suburb_waste_df['mean_income'])\n",
    "x = merged_suburb_waste_df['weekly_weight_by_unit']\n",
    "y = merged_suburb_waste_df['mean_income']\n",
    "coefficients = np.polyfit(x, y, 1)\n",
    "polynomial = np.poly1d(coefficients)\n",
    "plt.plot(x, polynomial(x), color='red')\n",
    "plt.title(\"The Relationship between income and waste\")\n",
    "plt.show()\n"
   ]
  },
  {
   "cell_type": "code",
   "execution_count": 53,
   "metadata": {},
   "outputs": [
    {
     "data": {
      "text/html": [
       "<div>\n",
       "<style scoped>\n",
       "    .dataframe tbody tr th:only-of-type {\n",
       "        vertical-align: middle;\n",
       "    }\n",
       "\n",
       "    .dataframe tbody tr th {\n",
       "        vertical-align: top;\n",
       "    }\n",
       "\n",
       "    .dataframe thead th {\n",
       "        text-align: right;\n",
       "    }\n",
       "</style>\n",
       "<table border=\"1\" class=\"dataframe\">\n",
       "  <thead>\n",
       "    <tr style=\"text-align: right;\">\n",
       "      <th></th>\n",
       "      <th>mean_income</th>\n",
       "      <th>weekly_weight_by_unit</th>\n",
       "    </tr>\n",
       "  </thead>\n",
       "  <tbody>\n",
       "    <tr>\n",
       "      <th>mean_income</th>\n",
       "      <td>1.000000</td>\n",
       "      <td>-0.580303</td>\n",
       "    </tr>\n",
       "    <tr>\n",
       "      <th>weekly_weight_by_unit</th>\n",
       "      <td>-0.580303</td>\n",
       "      <td>1.000000</td>\n",
       "    </tr>\n",
       "  </tbody>\n",
       "</table>\n",
       "</div>"
      ],
      "text/plain": [
       "                       mean_income  weekly_weight_by_unit\n",
       "mean_income               1.000000              -0.580303\n",
       "weekly_weight_by_unit    -0.580303               1.000000"
      ]
     },
     "execution_count": 53,
     "metadata": {},
     "output_type": "execute_result"
    }
   ],
   "source": [
    "merged_suburb_waste_df[['mean_income', 'weekly_weight_by_unit']].corr()"
   ]
  },
  {
   "cell_type": "code",
   "execution_count": 38,
   "metadata": {},
   "outputs": [
    {
     "data": {
      "image/png": "[encoded data removed]",
      "text/plain": [
       "<Figure size 640x480 with 1 Axes>"
      ]
     },
     "metadata": {},
     "output_type": "display_data"
    }
   ],
   "source": [
    "plt.title(\"The Relationship between income and recycle\")\n",
    "plt.scatter(merged_suburb_waste_df['pct_recycled_waste'], merged_suburb_waste_df['mean_income'])\n",
    "plt.show()\n"
   ]
  },
  {
   "cell_type": "code",
   "execution_count": 24,
   "metadata": {},
   "outputs": [
    {
     "name": "stderr",
     "output_type": "stream",
     "text": [
      "C:\\Users\\dlatl\\AppData\\Local\\Temp\\ipykernel_20676\\571110797.py:2: FutureWarning: The default value of numeric_only in DataFrame.corr is deprecated. In a future version, it will default to False. Select only valid columns or specify the value of numeric_only to silence this warning.\n",
      "  sns.heatmap(merged_suburb_waste_df.corr());\n"
     ]
    },
    {
     "data": {
      "image/png": "[encoded data removed]",
      "text/plain": [
       "<Figure size 1000x500 with 2 Axes>"
      ]
     },
     "metadata": {},
     "output_type": "display_data"
    }
   ],
   "source": [
    "plt.figure(figsize=(10, 5))\n",
    "sns.heatmap(merged_suburb_waste_df.corr());"
   ]
  },
  {
   "cell_type": "code",
   "execution_count": null,
   "metadata": {},
   "outputs": [],
   "source": []
  },
  {
   "cell_type": "code",
   "execution_count": null,
   "metadata": {},
   "outputs": [],
   "source": []
  }
 ],
 "metadata": {
  "kernelspec": {
   "display_name": "Python 3",
   "language": "python",
   "name": "python3"
  },
  "language_info": {
   "codemirror_mode": {
    "name": "ipython",
    "version": 3
   },
   "file_extension": ".py",
   "mimetype": "text/x-python",
   "name": "python",
   "nbconvert_exporter": "python",
   "pygments_lexer": "ipython3",
   "version": "3.11.1"
  },
  "orig_nbformat": 4
 },
 "nbformat": 4,
 "nbformat_minor": 2
}
